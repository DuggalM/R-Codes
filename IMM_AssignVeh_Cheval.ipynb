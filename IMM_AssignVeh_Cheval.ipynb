{
 "cells": [
  {
   "cell_type": "code",
   "execution_count": 1,
   "metadata": {
    "collapsed": true
   },
   "outputs": [],
   "source": [
    "# Import packages \n",
    "import pandas as pd\n",
    "import numpy as np\n",
    "# Set Working Directory\n",
    "import os\n",
    "# os.chdir(r'C:\\Personal\\IMM') # absolute path, using \\ and r prefix\n",
    "# wd = os.getcwd()\n",
    "\n",
    "import json\n",
    "from pprint import pprint\n",
    "import timeit\n",
    "from decimal import *\n",
    "import traceback\n",
    "from itertools import cycle\n",
    "\n",
    "import functools\n",
    "from balsa.matrices import read_mdf, to_mdf\n",
    "\n",
    "from balsa.cheval import sample_from_weights\n",
    "\n",
    "import logging\n",
    "# set random seed to be used\n",
    "seed = 12345"
   ]
  },
  {
   "cell_type": "code",
   "execution_count": 2,
   "metadata": {
    "collapsed": true
   },
   "outputs": [],
   "source": [
    "dirListing = 'c:\\\\personal\\\\IMM\\\\'\n",
    "# dirListing = 'c:\\\\personal\\\\IMM'\n",
    "fpath_pk = os.listdir(dirListing)"
   ]
  },
  {
   "cell_type": "code",
   "execution_count": null,
   "metadata": {},
   "outputs": [],
   "source": []
  },
  {
   "cell_type": "markdown",
   "metadata": {},
   "source": [
    "# Step 0: Batch in the *.bin file"
   ]
  },
  {
   "cell_type": "code",
   "execution_count": 3,
   "metadata": {
    "collapsed": true
   },
   "outputs": [],
   "source": [
    "record_type1 = np.dtype([\n",
    "    (\"Production Zone\", \"i4\"),\n",
    "    (\"Destination Zone\", \"i4\"),\n",
    "    (\"Market Segment\", \"i4\"),\n",
    "    (\"Segment 0 Drive-Alone Non-Toll\", \"f4\"),\n",
    "    (\"Segment 0 Drive-Alone Toll Trips\", \"f4\"),\n",
    "    (\"Segment 0 2-Person Non-Toll HOV Trips\", \"f4\"),\n",
    "    (\"Segment 0 2-Person Non-Toll non-HOV Trips\", \"f4\"),\n",
    "    (\"Segment 0 2-Person Toll HOV Trips\", \"f4\"),\n",
    "    (\"Segment 0 2-Person Toll Non-HOV Trips\", \"f4\"),\n",
    "    (\"Segment 0 3+ Person Non-Toll HOV Trips\", \"f4\"),\n",
    "    (\"Segment 0 3+ Person Non-Toll non-HOV Trips\", \"f4\"),\n",
    "    (\"Segment 0 3+ Person Toll HOV Trips\", \"f4\"),\n",
    "    (\"Segment 0 3+ Person Toll Non-HOV Trips\", \"f4\"),\n",
    "    (\"Segment 0 Non-Motorized Walk Trips\", \"f4\"),\n",
    "    (\"Segment 0 Non-Motorized Bicycle Trips\", \"f4\"),\n",
    "    (\"Segment 0 Taxi Trips\", \"f4\"),\n",
    "    (\"Segment 0 Uber Trips\", \"f4\"),\n",
    "    (\"Segment 0 GO Bus Walk Access Trips\", \"f4\"),\n",
    "    (\"Segment 0 GO Bus Drive Access Trips\", \"f4\"),\n",
    "    (\"Segment 0 Bus/Streetcar Walk Access Trips\", \"f4\"),\n",
    "    (\"Segment 0 Bus/Streetcar Drive Access Trips\", \"f4\"),\n",
    "    (\"Segment 0 Rapid Bus Walk Access Trips\", \"f4\"),\n",
    "    (\"Segment 0 Rapid Bus Drive Access Trips\", \"f4\"),\n",
    "    (\"Segment 0 Walk Access - GO Rail #1\", \"f4\"),\n",
    "    (\"Segment 0 Walk Access - GO Rail #2\", \"f4\"),\n",
    "    (\"Segment 0 Bus Access - GO Rail #1\", \"f4\"),\n",
    "    (\"Segment 0 Bus Access - GO Rail #2\", \"f4\"),\n",
    "    (\"Segment 0 Park-n-Ride Access - GO Rail #1\", \"f4\"),\n",
    "    (\"Segment 0 Park-n-Ride Access - GO Rail #2\", \"f4\"),\n",
    "    (\"Segment 0 Park-n-Ride Access - GO Rail #3\", \"f4\"),\n",
    "    (\"Segment 0 Park-n-Ride Access - GO Rail #4\", \"f4\"),\n",
    "    (\"Segment 0 Kiss-n-Ride Access - GO Rail #1\", \"f4\"),\n",
    "    (\"Segment 0 Kiss-n-Ride Access - GO Rail #2\", \"f4\"),\n",
    "    (\"Segment 0 Kiss-n-Ride Access - GO Rail #3\", \"f4\"),\n",
    "    (\"Segment 0 Kiss-n-Ride Access - GO Rail #4\", \"f4\"),\n",
    "    (\"Segment 0 Uber Access - GO Rail #1\", \"f4\"),\n",
    "    (\"Segment 0 Uber Access - GO Rail #2\", \"f4\"),\n",
    "    (\"Segment 0 Uber Access - GO Rail #3\", \"f4\"),\n",
    "    (\"Segment 0 Uber Access - GO Rail #4\", \"f4\"),\n",
    "    (\"Segment 0 Walk Access - TTC Subway #1\", \"f4\"),\n",
    "    (\"Segment 0 Walk Access - TTC Subway #2\", \"f4\"),\n",
    "    (\"Segment 0 Bus Access - TTC Subway #1\", \"f4\"),\n",
    "    (\"Segment 0 Bus Access - TTC Subway #2\", \"f4\"),\n",
    "    (\"Segment 0 Park-n-Ride Access - TTC Subway #1\", \"f4\"),\n",
    "    (\"Segment 0 Park-n-Ride Access - TTC Subway #2\", \"f4\"),\n",
    "    (\"Segment 0 Park-n-Ride Access - TTC Subway #3\", \"f4\"),\n",
    "    (\"Segment 0 Park-n-Ride Access - TTC Subway #4\", \"f4\"),\n",
    "    (\"Segment 0 Kiss-n-Ride Access - TTC Subway #1\", \"f4\"),\n",
    "    (\"Segment 0 Kiss-n-Ride Access - TTC Subway #2\", \"f4\"),\n",
    "    (\"Segment 0 Kiss-n-Ride Access - TTC Subway #3\", \"f4\"),\n",
    "    (\"Segment 0 Kiss-n-Ride Access - TTC Subway #4\", \"f4\"),\n",
    "    (\"Segment 0 Uber Access - TTC Subway #1\", \"f4\"),\n",
    "    (\"Segment 0 Uber Access - TTC Subway #2\", \"f4\"),\n",
    "    (\"Segment 0 Uber Access - TTC Subway #3\", \"f4\"),\n",
    "    (\"Segment 0 Uber Access - TTC Subway #4\", \"f4\"),\n",
    "    (\"Segment 1 Drive-Alone Non-Toll\", \"f4\"),\n",
    "    (\"Segment 1 Drive-Alone Toll Trips\", \"f4\"),\n",
    "    (\"Segment 1 2-Person Non-Toll HOV Trips\", \"f4\"),\n",
    "    (\"Segment 1 2-Person Non-Toll non-HOV Trips\", \"f4\"),\n",
    "    (\"Segment 1 2-Person Toll HOV Trips\", \"f4\"),\n",
    "    (\"Segment 1 2-Person Toll Non-HOV Trips\", \"f4\"),\n",
    "    (\"Segment 1 3+ Person Non-Toll HOV Trips\", \"f4\"),\n",
    "    (\"Segment 1 3+ Person Non-Toll non-HOV Trips\", \"f4\"),\n",
    "    (\"Segment 1 3+ Person Toll HOV Trips\", \"f4\"),\n",
    "    (\"Segment 1 3+ Person Toll Non-HOV Trips\", \"f4\"),\n",
    "    (\"Segment 1 Non-Motorized Walk Trips\", \"f4\"),\n",
    "    (\"Segment 1 Non-Motorized Bicycle Trips\", \"f4\"),\n",
    "    (\"Segment 1 Taxi Trips\", \"f4\"),\n",
    "    (\"Segment 1 Uber Trips\", \"f4\"),\n",
    "    (\"Segment 1 GO Bus Walk Access Trips\", \"f4\"),\n",
    "    (\"Segment 1 GO Bus Drive Access Trips\", \"f4\"),\n",
    "    (\"Segment 1 Bus/Streetcar Walk Access Trips\", \"f4\"),\n",
    "    (\"Segment 1 Bus/Streetcar Drive Access Trips\", \"f4\"),\n",
    "    (\"Segment 1 Rapid Bus Walk Access Trips\", \"f4\"),\n",
    "    (\"Segment 1 Rapid Bus Drive Access Trips\", \"f4\"),\n",
    "    (\"Segment 1 Walk Access - GO Rail #1\", \"f4\"),\n",
    "    (\"Segment 1 Walk Access - GO Rail #2\", \"f4\"),\n",
    "    (\"Segment 1 Bus Access - GO Rail #1\", \"f4\"),\n",
    "    (\"Segment 1 Bus Access - GO Rail #2\", \"f4\"),\n",
    "    (\"Segment 1 Park-n-Ride Access - GO Rail #1\", \"f4\"),\n",
    "    (\"Segment 1 Park-n-Ride Access - GO Rail #2\", \"f4\"),\n",
    "    (\"Segment 1 Park-n-Ride Access - GO Rail #3\", \"f4\"),\n",
    "    (\"Segment 1 Park-n-Ride Access - GO Rail #4\", \"f4\"),\n",
    "    (\"Segment 1 Kiss-n-Ride Access - GO Rail #1\", \"f4\"),\n",
    "    (\"Segment 1 Kiss-n-Ride Access - GO Rail #2\", \"f4\"),\n",
    "    (\"Segment 1 Kiss-n-Ride Access - GO Rail #3\", \"f4\"),\n",
    "    (\"Segment 1 Kiss-n-Ride Access - GO Rail #4\", \"f4\"),\n",
    "    (\"Segment 1 Uber Access - GO Rail #1\", \"f4\"),\n",
    "    (\"Segment 1 Uber Access - GO Rail #2\", \"f4\"),\n",
    "    (\"Segment 1 Uber Access - GO Rail #3\", \"f4\"),\n",
    "    (\"Segment 1 Uber Access - GO Rail #4\", \"f4\"),\n",
    "    (\"Segment 1 Walk Access - TTC Subway #1\", \"f4\"),\n",
    "    (\"Segment 1 Walk Access - TTC Subway #2\", \"f4\"),\n",
    "    (\"Segment 1 Bus Access - TTC Subway #1\", \"f4\"),\n",
    "    (\"Segment 1 Bus Access - TTC Subway #2\", \"f4\"),\n",
    "    (\"Segment 1 Park-n-Ride Access - TTC Subway #1\", \"f4\"),\n",
    "    (\"Segment 1 Park-n-Ride Access - TTC Subway #2\", \"f4\"),\n",
    "    (\"Segment 1 Park-n-Ride Access - TTC Subway #3\", \"f4\"),\n",
    "    (\"Segment 1 Park-n-Ride Access - TTC Subway #4\", \"f4\"),\n",
    "    (\"Segment 1 Kiss-n-Ride Access - TTC Subway #1\", \"f4\"),\n",
    "    (\"Segment 1 Kiss-n-Ride Access - TTC Subway #2\", \"f4\"),\n",
    "    (\"Segment 1 Kiss-n-Ride Access - TTC Subway #3\", \"f4\"),\n",
    "    (\"Segment 1 Kiss-n-Ride Access - TTC Subway #4\", \"f4\"),\n",
    "    (\"Segment 1 Uber Access - TTC Subway #1\", \"f4\"),\n",
    "    (\"Segment 1 Uber Access - TTC Subway #2\", \"f4\"),\n",
    "    (\"Segment 1 Uber Access - TTC Subway #3\", \"f4\"),\n",
    "    (\"Segment 1 Uber Access - TTC Subway #4\", \"f4\"),\n",
    "    (\"Segment 2 Drive-Alone Non-Toll\", \"f4\"),\n",
    "    (\"Segment 2 Drive-Alone Toll Trips\", \"f4\"),\n",
    "    (\"Segment 2 2-Person Non-Toll HOV Trips\", \"f4\"),\n",
    "    (\"Segment 2 2-Person Non-Toll non-HOV Trips\", \"f4\"),\n",
    "    (\"Segment 2 2-Person Toll HOV Trips\", \"f4\"),\n",
    "    (\"Segment 2 2-Person Toll Non-HOV Trips\", \"f4\"),\n",
    "    (\"Segment 2 3+ Person Non-Toll HOV Trips\", \"f4\"),\n",
    "    (\"Segment 2 3+ Person Non-Toll non-HOV Trips\", \"f4\"),\n",
    "    (\"Segment 2 3+ Person Toll HOV Trips\", \"f4\"),\n",
    "    (\"Segment 2 3+ Person Toll Non-HOV Trips\", \"f4\"),\n",
    "    (\"Segment 2 Non-Motorized Walk Trips\", \"f4\"),\n",
    "    (\"Segment 2 Non-Motorized Bicycle Trips\", \"f4\"),\n",
    "    (\"Segment 2 Taxi Trips\", \"f4\"),\n",
    "    (\"Segment 2 Uber Trips\", \"f4\"),\n",
    "    (\"Segment 2 GO Bus Walk Access Trips\", \"f4\"),\n",
    "    (\"Segment 2 GO Bus Drive Access Trips\", \"f4\"),\n",
    "    (\"Segment 2 Bus/Streetcar Walk Access Trips\", \"f4\"),\n",
    "    (\"Segment 2 Bus/Streetcar Drive Access Trips\", \"f4\"),\n",
    "    (\"Segment 2 Rapid Bus Walk Access Trips\", \"f4\"),\n",
    "    (\"Segment 2 Rapid Bus Drive Access Trips\", \"f4\"),\n",
    "    (\"Segment 2 Walk Access - GO Rail #1\", \"f4\"),\n",
    "    (\"Segment 2 Walk Access - GO Rail #2\", \"f4\"),\n",
    "    (\"Segment 2 Bus Access - GO Rail #1\", \"f4\"),\n",
    "    (\"Segment 2 Bus Access - GO Rail #2\", \"f4\"),\n",
    "    (\"Segment 2 Park-n-Ride Access - GO Rail #1\", \"f4\"),\n",
    "    (\"Segment 2 Park-n-Ride Access - GO Rail #2\", \"f4\"),\n",
    "    (\"Segment 2 Park-n-Ride Access - GO Rail #3\", \"f4\"),\n",
    "    (\"Segment 2 Park-n-Ride Access - GO Rail #4\", \"f4\"),\n",
    "    (\"Segment 2 Kiss-n-Ride Access - GO Rail #1\", \"f4\"),\n",
    "    (\"Segment 2 Kiss-n-Ride Access - GO Rail #2\", \"f4\"),\n",
    "    (\"Segment 2 Kiss-n-Ride Access - GO Rail #3\", \"f4\"),\n",
    "    (\"Segment 2 Kiss-n-Ride Access - GO Rail #4\", \"f4\"),\n",
    "    (\"Segment 2 Uber Access - GO Rail #1\", \"f4\"),\n",
    "    (\"Segment 2 Uber Access - GO Rail #2\", \"f4\"),\n",
    "    (\"Segment 2 Uber Access - GO Rail #3\", \"f4\"),\n",
    "    (\"Segment 2 Uber Access - GO Rail #4\", \"f4\"),\n",
    "    (\"Segment 2 Walk Access - TTC Subway #1\", \"f4\"),\n",
    "    (\"Segment 2 Walk Access - TTC Subway #2\", \"f4\"),\n",
    "    (\"Segment 2 Bus Access - TTC Subway #1\", \"f4\"),\n",
    "    (\"Segment 2 Bus Access - TTC Subway #2\", \"f4\"),\n",
    "    (\"Segment 2 Park-n-Ride Access - TTC Subway #1\", \"f4\"),\n",
    "    (\"Segment 2 Park-n-Ride Access - TTC Subway #2\", \"f4\"),\n",
    "    (\"Segment 2 Park-n-Ride Access - TTC Subway #3\", \"f4\"),\n",
    "    (\"Segment 2 Park-n-Ride Access - TTC Subway #4\", \"f4\"),\n",
    "    (\"Segment 2 Kiss-n-Ride Access - TTC Subway #1\", \"f4\"),\n",
    "    (\"Segment 2 Kiss-n-Ride Access - TTC Subway #2\", \"f4\"),\n",
    "    (\"Segment 2 Kiss-n-Ride Access - TTC Subway #3\", \"f4\"),\n",
    "    (\"Segment 2 Kiss-n-Ride Access - TTC Subway #4\", \"f4\"),\n",
    "    (\"Segment 2 Uber Access - TTC Subway #1\", \"f4\"),\n",
    "    (\"Segment 2 Uber Access - TTC Subway #2\", \"f4\"),\n",
    "    (\"Segment 2 Uber Access - TTC Subway #3\", \"f4\"),\n",
    "    (\"Segment 2 Uber Access - TTC Subway #4\", \"f4\"),\n",
    "    (\"Segment 3 Drive-Alone Non-Toll\", \"f4\"),\n",
    "    (\"Segment 3 Drive-Alone Toll Trips\", \"f4\"),\n",
    "    (\"Segment 3 2-Person Non-Toll HOV Trips\", \"f4\"),\n",
    "    (\"Segment 3 2-Person Non-Toll non-HOV Trips\", \"f4\"),\n",
    "    (\"Segment 3 2-Person Toll HOV Trips\", \"f4\"),\n",
    "    (\"Segment 3 2-Person Toll Non-HOV Trips\", \"f4\"),\n",
    "    (\"Segment 3 3+ Person Non-Toll HOV Trips\", \"f4\"),\n",
    "    (\"Segment 3 3+ Person Non-Toll non-HOV Trips\", \"f4\"),\n",
    "    (\"Segment 3 3+ Person Toll HOV Trips\", \"f4\"),\n",
    "    (\"Segment 3 3+ Person Toll Non-HOV Trips\", \"f4\"),\n",
    "    (\"Segment 3 Non-Motorized Walk Trips\", \"f4\"),\n",
    "    (\"Segment 3 Non-Motorized Bicycle Trips\", \"f4\"),\n",
    "    (\"Segment 3 Taxi Trips\", \"f4\"),\n",
    "    (\"Segment 3 Uber Trips\", \"f4\"),\n",
    "    (\"Segment 3 GO Bus Walk Access Trips\", \"f4\"),\n",
    "    (\"Segment 3 GO Bus Drive Access Trips\", \"f4\"),\n",
    "    (\"Segment 3 Bus/Streetcar Walk Access Trips\", \"f4\"),\n",
    "    (\"Segment 3 Bus/Streetcar Drive Access Trips\", \"f4\"),\n",
    "    (\"Segment 3 Rapid Bus Walk Access Trips\", \"f4\"),\n",
    "    (\"Segment 3 Rapid Bus Drive Access Trips\", \"f4\"),\n",
    "    (\"Segment 3 Walk Access - GO Rail #1\", \"f4\"),\n",
    "    (\"Segment 3 Walk Access - GO Rail #2\", \"f4\"),\n",
    "    (\"Segment 3 Bus Access - GO Rail #1\", \"f4\"),\n",
    "    (\"Segment 3 Bus Access - GO Rail #2\", \"f4\"),\n",
    "    (\"Segment 3 Park-n-Ride Access - GO Rail #1\", \"f4\"),\n",
    "    (\"Segment 3 Park-n-Ride Access - GO Rail #2\", \"f4\"),\n",
    "    (\"Segment 3 Park-n-Ride Access - GO Rail #3\", \"f4\"),\n",
    "    (\"Segment 3 Park-n-Ride Access - GO Rail #4\", \"f4\"),\n",
    "    (\"Segment 3 Kiss-n-Ride Access - GO Rail #1\", \"f4\"),\n",
    "    (\"Segment 3 Kiss-n-Ride Access - GO Rail #2\", \"f4\"),\n",
    "    (\"Segment 3 Kiss-n-Ride Access - GO Rail #3\", \"f4\"),\n",
    "    (\"Segment 3 Kiss-n-Ride Access - GO Rail #4\", \"f4\"),\n",
    "    (\"Segment 3 Uber Access - GO Rail #1\", \"f4\"),\n",
    "    (\"Segment 3 Uber Access - GO Rail #2\", \"f4\"),\n",
    "    (\"Segment 3 Uber Access - GO Rail #3\", \"f4\"),\n",
    "    (\"Segment 3 Uber Access - GO Rail #4\", \"f4\"),\n",
    "    (\"Segment 3 Walk Access - TTC Subway #1\", \"f4\"),\n",
    "    (\"Segment 3 Walk Access - TTC Subway #2\", \"f4\"),\n",
    "    (\"Segment 3 Bus Access - TTC Subway #1\", \"f4\"),\n",
    "    (\"Segment 3 Bus Access - TTC Subway #2\", \"f4\"),\n",
    "    (\"Segment 3 Park-n-Ride Access - TTC Subway #1\", \"f4\"),\n",
    "    (\"Segment 3 Park-n-Ride Access - TTC Subway #2\", \"f4\"),\n",
    "    (\"Segment 3 Park-n-Ride Access - TTC Subway #3\", \"f4\"),\n",
    "    (\"Segment 3 Park-n-Ride Access - TTC Subway #4\", \"f4\"),\n",
    "    (\"Segment 3 Kiss-n-Ride Access - TTC Subway #1\", \"f4\"),\n",
    "    (\"Segment 3 Kiss-n-Ride Access - TTC Subway #2\", \"f4\"),\n",
    "    (\"Segment 3 Kiss-n-Ride Access - TTC Subway #3\", \"f4\"),\n",
    "    (\"Segment 3 Kiss-n-Ride Access - TTC Subway #4\", \"f4\"),\n",
    "    (\"Segment 3 Uber Access - TTC Subway #1\", \"f4\"),\n",
    "    (\"Segment 3 Uber Access - TTC Subway #2\", \"f4\"),\n",
    "    (\"Segment 3 Uber Access - TTC Subway #3\", \"f4\"),\n",
    "    (\"Segment 3 Uber Access - TTC Subway #4\", \"f4\")\n",
    "])"
   ]
  },
  {
   "cell_type": "code",
   "execution_count": 4,
   "metadata": {},
   "outputs": [],
   "source": [
    "# Function for setting market segments\n",
    "def market_segment(df):\n",
    "    '''\n",
    "    This function takes a dataframe and assigns the market segment to it that is used in the GGHM.\n",
    "    \n",
    "    Arguments: dataframe\n",
    "    \n",
    "    return: dataframe with market segment\n",
    "    '''\n",
    "    \n",
    "    if {'hhinc', 'auto_suff'}.issubset(df.columns):\n",
    "        \n",
    "        # create segments\n",
    "        df.loc[(df['hhinc'] <= 60000) & (df['auto_suff'] == 0), 'market_seg'] = 0\n",
    "        df.loc[(df['hhinc'] > 60000) & (df['auto_suff'] == 0), 'market_seg'] = 1\n",
    "        df.loc[(df['hhinc'] <= 60000) & (df['auto_suff'] == 1), 'market_seg'] = 2\n",
    "        df.loc[(df['hhinc'] > 60000) & (df['auto_suff'] == 1), 'market_seg'] = 3\n",
    "        df.loc[(df['hhinc'] <= 60000) & (df['auto_suff'] == 2), 'market_seg'] = 4\n",
    "        df.loc[(df['hhinc'] > 60000) & (df['auto_suff'] == 2), 'market_seg'] = 5\n",
    "        # set dtype\n",
    "        df['market_seg'] = df['market_seg'].astype('int8')\n",
    "    else:\n",
    "        print(\"The requisite fields are not there to run the function\")\n",
    "    \n",
    "    return(df)\n"
   ]
  },
  {
   "cell_type": "code",
   "execution_count": 5,
   "metadata": {},
   "outputs": [],
   "source": [
    "def concat_df(df1, df2, num):\n",
    "    '''\n",
    "    A function to concatenate two dataframes by columns\n",
    "    \n",
    "    Arguments: The dataframes to be concatenated\n",
    "    \n",
    "    Returns: Concatenated df\n",
    "    '''\n",
    "    # once sampled, now concatenate the information back to the household dataframe\n",
    "    df1.reset_index(drop=True, inplace=True)\n",
    "    df2.reset_index(drop = True, inplace = True)\n",
    "    df1 = pd.concat([df1, df2], axis = num)\n",
    "    \n",
    "    return(df1)"
   ]
  },
  {
   "cell_type": "code",
   "execution_count": 6,
   "metadata": {
    "collapsed": true
   },
   "outputs": [
    {
     "name": "stdout",
     "output_type": "stream",
     "text": [
      "Wall time: 559 ms\n"
     ]
    }
   ],
   "source": [
    "%%time\n",
    "# bring in vehicle type file. Bryce's file has a certain structure (wide format) that Bill prefers for MLOGIT.\n",
    "# This however does not work as well with Cheval. Thus, his file is melted and a market_segment is added to the\n",
    "# end of it. Adding the market segment is helpful later on for slicing and attaching the appropriate probabilities\n",
    "# to the households file and passing it to Cheval.\n",
    "\n",
    "veh_type = pd.read_csv(os.path.join(dirListing, \"sample_veh_proportions_gghm_zone_csd.csv\"))\n",
    "veh_type.rename(columns={'ggh_zone':'taz'}, inplace=True)\n",
    "veh_type = pd.melt(veh_type, id_vars = ['taz']).sort_values(['taz', 'variable'])\n",
    "# attach the market segment to the veh_type. Also add in an integer based market seg\n",
    "veh_type['mseg1'] = veh_type['variable'].str.split('_').str[0]\n",
    "veh_type['mseg2'] = veh_type['variable'].str.split('_').str[1]\n",
    "veh_type['mseg'] = veh_type['mseg1'] + '_' + veh_type['mseg2']\n",
    "\n",
    "# extract the vehicle type. \n",
    "veh_type['vtype1'] = veh_type['variable'].str.split('_').str[2]\n",
    "veh_type['vtype2'] = veh_type['variable'].str.split('_').str[3]\n",
    "veh_type['vtype'] = veh_type['vtype1'] + '_' + veh_type['vtype2']\n",
    "\n",
    "veh_type.loc[(veh_type['mseg'] == 'nocar_low'), 'market_seg'] = 0\n",
    "veh_type.loc[(veh_type['mseg'] == 'nocar_high'), 'market_seg'] = 1\n",
    "veh_type.loc[(veh_type['mseg'] == 'insuff_low'), 'market_seg'] = 2\n",
    "veh_type.loc[(veh_type['mseg'] == 'insuff_high'), 'market_seg'] = 3\n",
    "veh_type.loc[(veh_type['mseg'] == 'suff_low'), 'market_seg'] = 4\n",
    "veh_type.loc[(veh_type['mseg'] == 'suff_high'), 'market_seg'] = 5\n",
    "veh_type['market_seg'] = veh_type['market_seg'].astype('int8')\n",
    "\n",
    "# drop unncessary columns\n",
    "columns = ['mseg1', 'mseg2', 'mseg', 'vtype1', 'vtype2']\n",
    "veh_type.drop(columns, inplace = True, axis = 1)"
   ]
  },
  {
   "cell_type": "code",
   "execution_count": 7,
   "metadata": {},
   "outputs": [
    {
     "name": "stdout",
     "output_type": "stream",
     "text": [
      "Wall time: 31.1 s\n"
     ]
    }
   ],
   "source": [
    "%%time\n",
    "# bring in the GGHMV4's trip_out and household file. \n",
    "hh = pd.read_csv(r\"c:\\personal\\IMM\\households_out.csv\")\n",
    "trips = pd.read_csv(r\"c:\\personal\\IMM\\trips_out.csv\")"
   ]
  },
  {
   "cell_type": "code",
   "execution_count": 8,
   "metadata": {},
   "outputs": [
    {
     "name": "stdout",
     "output_type": "stream",
     "text": [
      "Wall time: 386 ms\n"
     ]
    }
   ],
   "source": [
    "%%time\n",
    "# attach market segment for each household\n",
    "hh = market_segment(hh)"
   ]
  },
  {
   "cell_type": "code",
   "execution_count": 3,
   "metadata": {
    "collapsed": true
   },
   "outputs": [],
   "source": [
    "# set dictionary of Dtypes\n",
    "dtype_trips = {}\n",
    "dtype_hh = {}\n",
    "\n",
    "# dictionary for storing hhold column dtypes\n",
    "dtype_hh = {'hhid':'int32',\n",
    "              'taz':'int16',\n",
    "              'hhinc':'int32',\n",
    "              'dtype':'int8',\n",
    "              'hhsize':'int8',\n",
    "              'nveh':'int8',\n",
    "              'auto_suff': 'int8'\n",
    "              }\n",
    "\n",
    "# dictionary for storing trips column dtypes\n",
    "dtype_trips = {'hhid':'int32',\n",
    "              'pid':'int8',\n",
    "              'tour_id':'int8',\n",
    "              'subtour_id':'int8',\n",
    "              'trip_id':'int8',\n",
    "              'activity_i':'category',\n",
    "              'activity_j':'category',\n",
    "              'taz_i': 'int16',\n",
    "              'taz_j': 'int16',\n",
    "              'tour_direction':'category',\n",
    "              'purpose': 'category',\n",
    "              'trip_direction': 'category',\n",
    "              'peak_factor': 'float64',}\n",
    "\n",
    "# dictionary for storing trips column dtypes for a processed trip file\n",
    "dtype_trips_processed = {'hhid':'int32',\n",
    "              'pid':'int8',\n",
    "              'tour_id':'int8',\n",
    "              'subtour_id':'int8',\n",
    "              'trip_id':'int8',\n",
    "              'activity_i':'category',\n",
    "              'activity_j':'category',\n",
    "              'taz_i': 'int16',\n",
    "              'taz_j': 'int16',\n",
    "              'tour_direction':'category',\n",
    "              'purpose': 'category',\n",
    "              'trip_direction': 'category',\n",
    "              'peak_factor': 'float64',\n",
    "              'hhinc': 'int32',\n",
    "              'market_seg': 'int8',\n",
    "              'dtype': 'int8',\n",
    "              'hhsize': 'int8',\n",
    "              'nveh': 'int8',\n",
    "              'auto_suff': 'int8',          \n",
    "              'veh_type': 'category'}\n"
   ]
  },
  {
   "cell_type": "code",
   "execution_count": 10,
   "metadata": {},
   "outputs": [
    {
     "name": "stdout",
     "output_type": "stream",
     "text": [
      "Wall time: 9.64 s\n"
     ]
    }
   ],
   "source": [
    "%%time\n",
    "# set dtypes for trips dataframe to reduce memory requirements\n",
    "for key, value in dtype_trips.items():\n",
    "    trips[key] = trips[key].astype(value)\n",
    "\n",
    "for key, value in dtype_hh.items():\n",
    "    hh[key] = hh[key].astype(value)"
   ]
  },
  {
   "cell_type": "code",
   "execution_count": 11,
   "metadata": {},
   "outputs": [
    {
     "name": "stdout",
     "output_type": "stream",
     "text": [
      "Wall time: 7.55 s\n"
     ]
    }
   ],
   "source": [
    "%%time\n",
    "# join the vehicle probabilities to the households so that we can sample from them. It is easy enough to attach the\n",
    "# probabilities because we know the market segment of each household.\n",
    "hh_vehprob = pd.merge(hh, veh_type, left_on = ['taz', 'market_seg'], right_on = ['taz', 'market_seg'], how = 'left' )\n",
    "\n",
    "# now unstack and get it ready for Cheval\n",
    "hh_vehprob = hh_vehprob.pivot(index = 'hhid', columns = 'vtype', values = 'value') "
   ]
  },
  {
   "cell_type": "code",
   "execution_count": 12,
   "metadata": {},
   "outputs": [
    {
     "name": "stdout",
     "output_type": "stream",
     "text": [
      "Wall time: 774 ms\n"
     ]
    }
   ],
   "source": [
    "%%time\n",
    "# Sample a vehicle type\n",
    "s = pd.DataFrame(sample_from_weights(hh_vehprob, randomizer = seed, astype = 'category', n_threads = 3))\n",
    "s.columns = ['hh_veh_type']\n",
    "\n",
    "# once sampled, now concatenate the information back to the household dataframe\n",
    "hh = concat_df(hh, s, 1)"
   ]
  },
  {
   "cell_type": "code",
   "execution_count": 15,
   "metadata": {},
   "outputs": [
    {
     "data": {
      "text/plain": [
       "hhid                1001\n",
       "taz                 1001\n",
       "hhinc              57000\n",
       "dtype                  5\n",
       "hhsize                 1\n",
       "nveh                   1\n",
       "auto_suff              2\n",
       "market_seg             4\n",
       "hh_veh_type    trad_auto\n",
       "Name: 1000, dtype: object"
      ]
     },
     "execution_count": 15,
     "metadata": {},
     "output_type": "execute_result"
    }
   ],
   "source": [
    "hh.iloc[1000,]"
   ]
  },
  {
   "cell_type": "code",
   "execution_count": null,
   "metadata": {},
   "outputs": [],
   "source": [
    "%%time \n",
    "# transfer the veh_type and market_segment by household id to the trips table.\n",
    "# Add in a descriptor for the market segment to make it easy to understand\n",
    "trips = pd.merge(trips, hh, on = 'hhid', how = 'left')\n",
    "\n",
    "# dictionary of market and vehicle segment key and values\n",
    "market_seg_def = {\n",
    "    0 : 'nocar_low',\n",
    "    1 : \"nocar_high\",\n",
    "    2 : \"insuff_low\",\n",
    "    3 : \"insuff_high\",\n",
    "    4 : \"suff_low\",\n",
    "    5 : \"suff_high\"\n",
    "}\n",
    "\n",
    "# dictionary of veh segment key and values\n",
    "veh_seg_def = {\n",
    "    'trad_auto' : 0,\n",
    "    \"trad_uber\" : 1,\n",
    "    \"av_auto\" : 2,\n",
    "    \"av_uber\" : 3\n",
    "}\n",
    "\n",
    "# map the information\n",
    "trips['mseg'] = trips['market_seg'].map(market_seg_def)\n",
    "trips['vseg'] = trips['hh_veh_type'].map(veh_seg_def)"
   ]
  },
  {
   "cell_type": "code",
   "execution_count": null,
   "metadata": {},
   "outputs": [],
   "source": [
    "trips.head()"
   ]
  },
  {
   "cell_type": "code",
   "execution_count": null,
   "metadata": {},
   "outputs": [],
   "source": [
    "# save trips file out with the added vehcile info\n",
    "trips.to_csv(r\"c:/personal/IMM/Trips_veh.gzip\", index = False, compression = 'gzip')"
   ]
  },
  {
   "cell_type": "code",
   "execution_count": 2,
   "metadata": {},
   "outputs": [
    {
     "data": {
      "text/plain": [
       "105"
      ]
     },
     "execution_count": 2,
     "metadata": {},
     "output_type": "execute_result"
    }
   ],
   "source": [
    "import gc\n",
    "gc.collect()"
   ]
  },
  {
   "cell_type": "code",
   "execution_count": null,
   "metadata": {},
   "outputs": [],
   "source": []
  }
 ],
 "metadata": {
  "anaconda-cloud": {},
  "kernelspec": {
   "display_name": "Python 3",
   "language": "python",
   "name": "python3"
  },
  "language_info": {
   "codemirror_mode": {
    "name": "ipython",
    "version": 3
   },
   "file_extension": ".py",
   "mimetype": "text/x-python",
   "name": "python",
   "nbconvert_exporter": "python",
   "pygments_lexer": "ipython3",
   "version": "3.6.1"
  }
 },
 "nbformat": 4,
 "nbformat_minor": 2
}
